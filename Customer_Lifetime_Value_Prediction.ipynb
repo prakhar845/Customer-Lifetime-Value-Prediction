{
 "cells": [
  {
   "cell_type": "markdown",
   "id": "ae971ba5",
   "metadata": {},
   "source": [
    "Data Cleaning and Preprocessing"
   ]
  },
  {
   "cell_type": "markdown",
   "id": "07318138",
   "metadata": {},
   "source": [
    "Analyzing the data"
   ]
  },
  {
   "cell_type": "code",
   "execution_count": 1,
   "id": "d2f9ee11",
   "metadata": {},
   "outputs": [
    {
     "name": "stdout",
     "output_type": "stream",
     "text": [
      "  Invoice StockCode                          Description  Quantity  \\\n",
      "0  489434     85048  15CM CHRISTMAS GLASS BALL 20 LIGHTS        12   \n",
      "1  489434    79323P                   PINK CHERRY LIGHTS        12   \n",
      "2  489434    79323W                  WHITE CHERRY LIGHTS        12   \n",
      "3  489434     22041         RECORD FRAME 7\" SINGLE SIZE         48   \n",
      "4  489434     21232       STRAWBERRY CERAMIC TRINKET BOX        24   \n",
      "\n",
      "          InvoiceDate  Price  Customer ID         Country  \n",
      "0 2009-12-01 07:45:00   6.95      13085.0  United Kingdom  \n",
      "1 2009-12-01 07:45:00   6.75      13085.0  United Kingdom  \n",
      "2 2009-12-01 07:45:00   6.75      13085.0  United Kingdom  \n",
      "3 2009-12-01 07:45:00   2.10      13085.0  United Kingdom  \n",
      "4 2009-12-01 07:45:00   1.25      13085.0  United Kingdom  \n"
     ]
    }
   ],
   "source": [
    "import pandas as pd\n",
    "\n",
    "# Because the script and data are in the same folder, the path is just the filename.\n",
    "file_path = 'online_retail_II.xlsx'\n",
    "\n",
    "# Load the data\n",
    "df = pd.read_excel(file_path)\n",
    "\n",
    "# Display the first few rows to check it\n",
    "print(df.head())"
   ]
  },
  {
   "cell_type": "markdown",
   "id": "f28fd331",
   "metadata": {},
   "source": [
    "1. Handling Missing Customer IDs\n",
    "\n",
    "First, will see how much data is missing."
   ]
  },
  {
   "cell_type": "code",
   "execution_count": 2,
   "id": "ae1ca46f",
   "metadata": {},
   "outputs": [
    {
     "name": "stdout",
     "output_type": "stream",
     "text": [
      "Invoice             0\n",
      "StockCode           0\n",
      "Description      2928\n",
      "Quantity            0\n",
      "InvoiceDate         0\n",
      "Price               0\n",
      "Customer ID    107927\n",
      "Country             0\n",
      "dtype: int64\n"
     ]
    }
   ],
   "source": [
    "print(df.isnull().sum())"
   ]
  },
  {
   "cell_type": "markdown",
   "id": "5ddab1fc",
   "metadata": {},
   "source": [
    "Since a large number of missing values are there in the Customer ID column.\n",
    "\n",
    "The Problem: Customer Lifetime Value is a customer-centric metric. If a transaction doesn't have a Customer ID, we can't assign it to any customer. Therefore, these rows are unusable for our specific goal.\n",
    "\n",
    "The Solution: We will remove all rows where the Customer ID is missing."
   ]
  },
  {
   "cell_type": "code",
   "execution_count": 3,
   "id": "c03bac28",
   "metadata": {},
   "outputs": [
    {
     "name": "stdout",
     "output_type": "stream",
     "text": [
      "Original shape: (525461, 8)\n",
      "Shape after dropping NaNs: (417534, 8)\n",
      "Invoice        0\n",
      "StockCode      0\n",
      "Description    0\n",
      "Quantity       0\n",
      "InvoiceDate    0\n",
      "Price          0\n",
      "Customer ID    0\n",
      "Country        0\n",
      "dtype: int64\n"
     ]
    }
   ],
   "source": [
    "print(\"Original shape:\", df.shape)\n",
    "\n",
    "df.dropna(subset=['Customer ID'], inplace=True)\n",
    "\n",
    "print(\"Shape after dropping NaNs:\", df.shape)\n",
    "print(df.isnull().sum())"
   ]
  },
  {
   "cell_type": "markdown",
   "id": "45a61310",
   "metadata": {},
   "source": [
    "2. Removing Canceled Orders\n",
    "\n",
    "In this dataset, canceled orders are marked with an Invoice number that starts with the letter 'C'. These entries also have negative quantities.\n",
    "\n",
    "The Problem: Canceled orders represent returned goods, not revenue. Including them would incorrectly reduce customer spending and skew our CLV calculations.\n",
    "\n",
    "The Solution: We will filter out all rows where the Invoice number starts with 'C'."
   ]
  },
  {
   "cell_type": "code",
   "execution_count": 4,
   "id": "71538763",
   "metadata": {},
   "outputs": [],
   "source": [
    "df['Invoice'] = df['Invoice'].astype(str)\n",
    "\n",
    "df = df[~df['Invoice'].str.startswith('C')]\n",
    "\n",
    "df = df[df['Quantity'] > 0]"
   ]
  },
  {
   "cell_type": "markdown",
   "id": "a4892cda",
   "metadata": {},
   "source": [
    "3. Removing Rows with Zero Price\n",
    "\n",
    "Some items have a price of 0.0. These could be promotional items, test entries, or bad data.\n",
    "\n",
    "The Problem: A transaction with zero value adds no monetary information and can cause errors in some statistical models (like the Gamma-Gamma model we'll use later).\n",
    "\n",
    "The Solution: We will remove any rows where the price is zero."
   ]
  },
  {
   "cell_type": "code",
   "execution_count": 5,
   "id": "1e531a69",
   "metadata": {},
   "outputs": [],
   "source": [
    "df = df[df['Price'] > 0]"
   ]
  },
  {
   "cell_type": "markdown",
   "id": "c75a8969",
   "metadata": {},
   "source": [
    "4. Creating the TotalPrice Column\n",
    "\n",
    "Our model needs to know the total monetary value of each transaction line.\n",
    "\n",
    "The Need: We need a single column that represents the total value for each line item in the dataset.\n",
    "\n",
    "The Solution: Create a new column called TotalPrice by multiplying Quantity by Price."
   ]
  },
  {
   "cell_type": "code",
   "execution_count": 6,
   "id": "afa6a6a5",
   "metadata": {},
   "outputs": [],
   "source": [
    "df['TotalPrice'] = df['Quantity'] * df['Price']"
   ]
  },
  {
   "cell_type": "markdown",
   "id": "1f5d16ce",
   "metadata": {},
   "source": [
    "5. Converting Data Types\n",
    "\n",
    "let's ensure our columns have the correct data types for future calculations.\n",
    "\n",
    "The Problem: The Customer ID, which we dropped NaNs from, might be a float (e.g., 12345.0). The InvoiceDate is likely an object (string) instead of a proper datetime object.\n",
    "\n",
    "The Solution: Convert Customer ID to an integer and InvoiceDate to a datetime object. This is crucial for performing time-based calculations like recency and creating cohorts."
   ]
  },
  {
   "cell_type": "code",
   "execution_count": 7,
   "id": "dcbe9dde",
   "metadata": {},
   "outputs": [
    {
     "name": "stdout",
     "output_type": "stream",
     "text": [
      "<class 'pandas.core.frame.DataFrame'>\n",
      "Index: 407664 entries, 0 to 525460\n",
      "Data columns (total 9 columns):\n",
      " #   Column       Non-Null Count   Dtype         \n",
      "---  ------       --------------   -----         \n",
      " 0   Invoice      407664 non-null  object        \n",
      " 1   StockCode    407664 non-null  object        \n",
      " 2   Description  407664 non-null  object        \n",
      " 3   Quantity     407664 non-null  int64         \n",
      " 4   InvoiceDate  407664 non-null  datetime64[ns]\n",
      " 5   Price        407664 non-null  float64       \n",
      " 6   Customer ID  407664 non-null  int64         \n",
      " 7   Country      407664 non-null  object        \n",
      " 8   TotalPrice   407664 non-null  float64       \n",
      "dtypes: datetime64[ns](1), float64(2), int64(2), object(4)\n",
      "memory usage: 31.1+ MB\n",
      "None\n"
     ]
    }
   ],
   "source": [
    "\n",
    "df['Customer ID'] = df['Customer ID'].astype(int)\n",
    "\n",
    "df['InvoiceDate'] = pd.to_datetime(df['InvoiceDate'])\n",
    "\n",
    "print(df.info())"
   ]
  },
  {
   "cell_type": "code",
   "execution_count": 8,
   "id": "800a0b4c",
   "metadata": {},
   "outputs": [
    {
     "data": {
      "text/html": [
       "<div>\n",
       "<style scoped>\n",
       "    .dataframe tbody tr th:only-of-type {\n",
       "        vertical-align: middle;\n",
       "    }\n",
       "\n",
       "    .dataframe tbody tr th {\n",
       "        vertical-align: top;\n",
       "    }\n",
       "\n",
       "    .dataframe thead th {\n",
       "        text-align: right;\n",
       "    }\n",
       "</style>\n",
       "<table border=\"1\" class=\"dataframe\">\n",
       "  <thead>\n",
       "    <tr style=\"text-align: right;\">\n",
       "      <th></th>\n",
       "      <th>Quantity</th>\n",
       "      <th>InvoiceDate</th>\n",
       "      <th>Price</th>\n",
       "      <th>Customer ID</th>\n",
       "      <th>TotalPrice</th>\n",
       "    </tr>\n",
       "  </thead>\n",
       "  <tbody>\n",
       "    <tr>\n",
       "      <th>count</th>\n",
       "      <td>407664.000000</td>\n",
       "      <td>407664</td>\n",
       "      <td>407664.000000</td>\n",
       "      <td>407664.000000</td>\n",
       "      <td>407664.000000</td>\n",
       "    </tr>\n",
       "    <tr>\n",
       "      <th>mean</th>\n",
       "      <td>13.585585</td>\n",
       "      <td>2010-07-01 10:15:11.871688192</td>\n",
       "      <td>3.294438</td>\n",
       "      <td>15368.592598</td>\n",
       "      <td>21.664909</td>\n",
       "    </tr>\n",
       "    <tr>\n",
       "      <th>min</th>\n",
       "      <td>1.000000</td>\n",
       "      <td>2009-12-01 07:45:00</td>\n",
       "      <td>0.001000</td>\n",
       "      <td>12346.000000</td>\n",
       "      <td>0.001000</td>\n",
       "    </tr>\n",
       "    <tr>\n",
       "      <th>25%</th>\n",
       "      <td>2.000000</td>\n",
       "      <td>2010-03-26 14:01:00</td>\n",
       "      <td>1.250000</td>\n",
       "      <td>13997.000000</td>\n",
       "      <td>4.950000</td>\n",
       "    </tr>\n",
       "    <tr>\n",
       "      <th>50%</th>\n",
       "      <td>5.000000</td>\n",
       "      <td>2010-07-09 15:47:00</td>\n",
       "      <td>1.950000</td>\n",
       "      <td>15321.000000</td>\n",
       "      <td>11.900000</td>\n",
       "    </tr>\n",
       "    <tr>\n",
       "      <th>75%</th>\n",
       "      <td>12.000000</td>\n",
       "      <td>2010-10-14 17:09:00</td>\n",
       "      <td>3.750000</td>\n",
       "      <td>16812.000000</td>\n",
       "      <td>19.500000</td>\n",
       "    </tr>\n",
       "    <tr>\n",
       "      <th>max</th>\n",
       "      <td>19152.000000</td>\n",
       "      <td>2010-12-09 20:01:00</td>\n",
       "      <td>10953.500000</td>\n",
       "      <td>18287.000000</td>\n",
       "      <td>15818.400000</td>\n",
       "    </tr>\n",
       "    <tr>\n",
       "      <th>std</th>\n",
       "      <td>96.840747</td>\n",
       "      <td>NaN</td>\n",
       "      <td>34.757965</td>\n",
       "      <td>1679.762138</td>\n",
       "      <td>77.150058</td>\n",
       "    </tr>\n",
       "  </tbody>\n",
       "</table>\n",
       "</div>"
      ],
      "text/plain": [
       "            Quantity                    InvoiceDate          Price  \\\n",
       "count  407664.000000                         407664  407664.000000   \n",
       "mean       13.585585  2010-07-01 10:15:11.871688192       3.294438   \n",
       "min         1.000000            2009-12-01 07:45:00       0.001000   \n",
       "25%         2.000000            2010-03-26 14:01:00       1.250000   \n",
       "50%         5.000000            2010-07-09 15:47:00       1.950000   \n",
       "75%        12.000000            2010-10-14 17:09:00       3.750000   \n",
       "max     19152.000000            2010-12-09 20:01:00   10953.500000   \n",
       "std        96.840747                            NaN      34.757965   \n",
       "\n",
       "         Customer ID     TotalPrice  \n",
       "count  407664.000000  407664.000000  \n",
       "mean    15368.592598      21.664909  \n",
       "min     12346.000000       0.001000  \n",
       "25%     13997.000000       4.950000  \n",
       "50%     15321.000000      11.900000  \n",
       "75%     16812.000000      19.500000  \n",
       "max     18287.000000   15818.400000  \n",
       "std      1679.762138      77.150058  "
      ]
     },
     "execution_count": 8,
     "metadata": {},
     "output_type": "execute_result"
    }
   ],
   "source": [
    "df.describe()"
   ]
  },
  {
   "cell_type": "code",
   "execution_count": 9,
   "id": "51c306da",
   "metadata": {},
   "outputs": [
    {
     "data": {
      "text/html": [
       "<div>\n",
       "<style scoped>\n",
       "    .dataframe tbody tr th:only-of-type {\n",
       "        vertical-align: middle;\n",
       "    }\n",
       "\n",
       "    .dataframe tbody tr th {\n",
       "        vertical-align: top;\n",
       "    }\n",
       "\n",
       "    .dataframe thead th {\n",
       "        text-align: right;\n",
       "    }\n",
       "</style>\n",
       "<table border=\"1\" class=\"dataframe\">\n",
       "  <thead>\n",
       "    <tr style=\"text-align: right;\">\n",
       "      <th></th>\n",
       "      <th>Invoice</th>\n",
       "      <th>StockCode</th>\n",
       "      <th>Description</th>\n",
       "      <th>Quantity</th>\n",
       "      <th>InvoiceDate</th>\n",
       "      <th>Price</th>\n",
       "      <th>Customer ID</th>\n",
       "      <th>Country</th>\n",
       "      <th>TotalPrice</th>\n",
       "    </tr>\n",
       "  </thead>\n",
       "  <tbody>\n",
       "    <tr>\n",
       "      <th>0</th>\n",
       "      <td>489434</td>\n",
       "      <td>85048</td>\n",
       "      <td>15CM CHRISTMAS GLASS BALL 20 LIGHTS</td>\n",
       "      <td>12</td>\n",
       "      <td>2009-12-01 07:45:00</td>\n",
       "      <td>6.95</td>\n",
       "      <td>13085</td>\n",
       "      <td>United Kingdom</td>\n",
       "      <td>83.4</td>\n",
       "    </tr>\n",
       "    <tr>\n",
       "      <th>1</th>\n",
       "      <td>489434</td>\n",
       "      <td>79323P</td>\n",
       "      <td>PINK CHERRY LIGHTS</td>\n",
       "      <td>12</td>\n",
       "      <td>2009-12-01 07:45:00</td>\n",
       "      <td>6.75</td>\n",
       "      <td>13085</td>\n",
       "      <td>United Kingdom</td>\n",
       "      <td>81.0</td>\n",
       "    </tr>\n",
       "    <tr>\n",
       "      <th>2</th>\n",
       "      <td>489434</td>\n",
       "      <td>79323W</td>\n",
       "      <td>WHITE CHERRY LIGHTS</td>\n",
       "      <td>12</td>\n",
       "      <td>2009-12-01 07:45:00</td>\n",
       "      <td>6.75</td>\n",
       "      <td>13085</td>\n",
       "      <td>United Kingdom</td>\n",
       "      <td>81.0</td>\n",
       "    </tr>\n",
       "    <tr>\n",
       "      <th>3</th>\n",
       "      <td>489434</td>\n",
       "      <td>22041</td>\n",
       "      <td>RECORD FRAME 7\" SINGLE SIZE</td>\n",
       "      <td>48</td>\n",
       "      <td>2009-12-01 07:45:00</td>\n",
       "      <td>2.10</td>\n",
       "      <td>13085</td>\n",
       "      <td>United Kingdom</td>\n",
       "      <td>100.8</td>\n",
       "    </tr>\n",
       "    <tr>\n",
       "      <th>4</th>\n",
       "      <td>489434</td>\n",
       "      <td>21232</td>\n",
       "      <td>STRAWBERRY CERAMIC TRINKET BOX</td>\n",
       "      <td>24</td>\n",
       "      <td>2009-12-01 07:45:00</td>\n",
       "      <td>1.25</td>\n",
       "      <td>13085</td>\n",
       "      <td>United Kingdom</td>\n",
       "      <td>30.0</td>\n",
       "    </tr>\n",
       "  </tbody>\n",
       "</table>\n",
       "</div>"
      ],
      "text/plain": [
       "  Invoice StockCode                          Description  Quantity  \\\n",
       "0  489434     85048  15CM CHRISTMAS GLASS BALL 20 LIGHTS        12   \n",
       "1  489434    79323P                   PINK CHERRY LIGHTS        12   \n",
       "2  489434    79323W                  WHITE CHERRY LIGHTS        12   \n",
       "3  489434     22041         RECORD FRAME 7\" SINGLE SIZE         48   \n",
       "4  489434     21232       STRAWBERRY CERAMIC TRINKET BOX        24   \n",
       "\n",
       "          InvoiceDate  Price  Customer ID         Country  TotalPrice  \n",
       "0 2009-12-01 07:45:00   6.95        13085  United Kingdom        83.4  \n",
       "1 2009-12-01 07:45:00   6.75        13085  United Kingdom        81.0  \n",
       "2 2009-12-01 07:45:00   6.75        13085  United Kingdom        81.0  \n",
       "3 2009-12-01 07:45:00   2.10        13085  United Kingdom       100.8  \n",
       "4 2009-12-01 07:45:00   1.25        13085  United Kingdom        30.0  "
      ]
     },
     "execution_count": 9,
     "metadata": {},
     "output_type": "execute_result"
    }
   ],
   "source": [
    "df.head()"
   ]
  },
  {
   "cell_type": "markdown",
   "id": "53244c30",
   "metadata": {},
   "source": [
    " Cohort Analysis\n",
    "\n",
    " Objective: To group customers into cohorts based on when they made their first purchase and track how many of them return to make subsequent purchases over time. This will help you understand customer loyalty and retention."
   ]
  },
  {
   "cell_type": "markdown",
   "id": "bd351787",
   "metadata": {},
   "source": [
    "1. Creation of Cohort and Invoice Month Columns\n",
    "\n",
    "First, we need to assign each customer to a cohort. A cohort is defined by the month of the customer's very first purchase."
   ]
  },
  {
   "cell_type": "code",
   "execution_count": 10,
   "id": "a00c4940",
   "metadata": {},
   "outputs": [],
   "source": [
    "import pandas as pd\n",
    "\n",
    "df['CohortMonth'] = df.groupby('Customer ID')['InvoiceDate'].transform('min').dt.to_period('M')\n",
    "\n",
    "df['InvoiceMonth'] = df['InvoiceDate'].dt.to_period('M')"
   ]
  },
  {
   "cell_type": "markdown",
   "id": "b1707552",
   "metadata": {},
   "source": [
    "2. Calculate Cohort Index\n",
    "\n",
    "Next, for each transaction, we'll calculate a \"cohort index\". This is an integer representing how many months have passed since the customer's first purchase. For example, the month of the first purchase is index 0, the next month is index 1, and so on."
   ]
  },
  {
   "cell_type": "code",
   "execution_count": 11,
   "id": "76dfe920",
   "metadata": {},
   "outputs": [],
   "source": [
    "def get_cohort_index(df, cohort_month_col='CohortMonth', invoice_month_col='InvoiceMonth'):\n",
    "    \"\"\"\n",
    "    Calculates the cohort index for each transaction.\n",
    "    Cohort index is the number of months since the customer's first purchase.\n",
    "    \"\"\"\n",
    "    year_diff = df[invoice_month_col].dt.year - df[cohort_month_col].dt.year\n",
    "    month_diff = df[invoice_month_col].dt.month - df[cohort_month_col].dt.month\n",
    "    return year_diff * 12 + month_diff + 1\n",
    "\n",
    "df['CohortIndex'] = get_cohort_index(df)"
   ]
  },
  {
   "cell_type": "markdown",
   "id": "8ac92b18",
   "metadata": {},
   "source": [
    "3. Create the Cohort Retention Matrix\n",
    "\n",
    "Now we'll create a pivot table to see how many unique customers from each cohort were active in each subsequent month (CohortIndex)."
   ]
  },
  {
   "cell_type": "code",
   "execution_count": 12,
   "id": "a28951cb",
   "metadata": {},
   "outputs": [
    {
     "name": "stdout",
     "output_type": "stream",
     "text": [
      "CohortIndex     1      2      3      4      5      6      7      8      9   \\\n",
      "CohortMonth                                                                  \n",
      "2009-12      955.0  337.0  319.0  406.0  363.0  343.0  360.0  327.0  321.0   \n",
      "2010-01      383.0   79.0  119.0  117.0  101.0  115.0   99.0   88.0  107.0   \n",
      "2010-02      374.0   89.0   84.0  109.0   92.0   75.0   72.0  107.0   95.0   \n",
      "2010-03      443.0   84.0  102.0  107.0  103.0   90.0  109.0  134.0  122.0   \n",
      "2010-04      294.0   57.0   57.0   48.0   54.0   66.0   81.0   77.0   20.0   \n",
      "2010-05      254.0   40.0   43.0   44.0   45.0   65.0   54.0   20.0    NaN   \n",
      "2010-06      270.0   47.0   51.0   55.0   62.0   77.0   18.0    NaN    NaN   \n",
      "2010-07      186.0   29.0   34.0   55.0   54.0   19.0    NaN    NaN    NaN   \n",
      "2010-08      162.0   33.0   48.0   52.0   19.0    NaN    NaN    NaN    NaN   \n",
      "2010-09      243.0   55.0   57.0   24.0    NaN    NaN    NaN    NaN    NaN   \n",
      "2010-10      377.0   97.0   35.0    NaN    NaN    NaN    NaN    NaN    NaN   \n",
      "2010-11      325.0   35.0    NaN    NaN    NaN    NaN    NaN    NaN    NaN   \n",
      "2010-12       46.0    NaN    NaN    NaN    NaN    NaN    NaN    NaN    NaN   \n",
      "\n",
      "CohortIndex     10     11     12     13  \n",
      "CohortMonth                              \n",
      "2009-12      346.0  403.0  473.0  237.0  \n",
      "2010-01      122.0  116.0   38.0    NaN  \n",
      "2010-02      103.0   27.0    NaN    NaN  \n",
      "2010-03       35.0    NaN    NaN    NaN  \n",
      "2010-04        NaN    NaN    NaN    NaN  \n",
      "2010-05        NaN    NaN    NaN    NaN  \n",
      "2010-06        NaN    NaN    NaN    NaN  \n",
      "2010-07        NaN    NaN    NaN    NaN  \n",
      "2010-08        NaN    NaN    NaN    NaN  \n",
      "2010-09        NaN    NaN    NaN    NaN  \n",
      "2010-10        NaN    NaN    NaN    NaN  \n",
      "2010-11        NaN    NaN    NaN    NaN  \n",
      "2010-12        NaN    NaN    NaN    NaN  \n"
     ]
    }
   ],
   "source": [
    "cohort_data = df.groupby(['CohortMonth', 'CohortIndex'])['Customer ID'].nunique().reset_index()\n",
    "\n",
    "cohort_counts = cohort_data.pivot_table(index='CohortMonth',\n",
    "                                        columns='CohortIndex',\n",
    "                                        values='Customer ID')\n",
    "\n",
    "print(cohort_counts)"
   ]
  },
  {
   "cell_type": "markdown",
   "id": "070ba642",
   "metadata": {},
   "source": [
    "4. Calculate Retention Rate\n",
    "\n",
    "Absolute numbers are good, but retention rates (percentages) are better for comparison. We'll divide each number in the table by the initial size of that cohort (the value in the first column, CohortIndex = 1)."
   ]
  },
  {
   "cell_type": "code",
   "execution_count": 13,
   "id": "9a240f9c",
   "metadata": {},
   "outputs": [
    {
     "data": {
      "text/html": [
       "<div>\n",
       "<style scoped>\n",
       "    .dataframe tbody tr th:only-of-type {\n",
       "        vertical-align: middle;\n",
       "    }\n",
       "\n",
       "    .dataframe tbody tr th {\n",
       "        vertical-align: top;\n",
       "    }\n",
       "\n",
       "    .dataframe thead th {\n",
       "        text-align: right;\n",
       "    }\n",
       "</style>\n",
       "<table border=\"1\" class=\"dataframe\">\n",
       "  <thead>\n",
       "    <tr style=\"text-align: right;\">\n",
       "      <th>CohortIndex</th>\n",
       "      <th>1</th>\n",
       "      <th>2</th>\n",
       "      <th>3</th>\n",
       "      <th>4</th>\n",
       "      <th>5</th>\n",
       "      <th>6</th>\n",
       "      <th>7</th>\n",
       "      <th>8</th>\n",
       "      <th>9</th>\n",
       "      <th>10</th>\n",
       "      <th>11</th>\n",
       "      <th>12</th>\n",
       "      <th>13</th>\n",
       "    </tr>\n",
       "    <tr>\n",
       "      <th>CohortMonth</th>\n",
       "      <th></th>\n",
       "      <th></th>\n",
       "      <th></th>\n",
       "      <th></th>\n",
       "      <th></th>\n",
       "      <th></th>\n",
       "      <th></th>\n",
       "      <th></th>\n",
       "      <th></th>\n",
       "      <th></th>\n",
       "      <th></th>\n",
       "      <th></th>\n",
       "      <th></th>\n",
       "    </tr>\n",
       "  </thead>\n",
       "  <tbody>\n",
       "    <tr>\n",
       "      <th>2009-12</th>\n",
       "      <td>100.0</td>\n",
       "      <td>35.3</td>\n",
       "      <td>33.4</td>\n",
       "      <td>42.5</td>\n",
       "      <td>38.0</td>\n",
       "      <td>35.9</td>\n",
       "      <td>37.7</td>\n",
       "      <td>34.2</td>\n",
       "      <td>33.6</td>\n",
       "      <td>36.2</td>\n",
       "      <td>42.2</td>\n",
       "      <td>49.5</td>\n",
       "      <td>24.8</td>\n",
       "    </tr>\n",
       "    <tr>\n",
       "      <th>2010-01</th>\n",
       "      <td>100.0</td>\n",
       "      <td>20.6</td>\n",
       "      <td>31.1</td>\n",
       "      <td>30.5</td>\n",
       "      <td>26.4</td>\n",
       "      <td>30.0</td>\n",
       "      <td>25.8</td>\n",
       "      <td>23.0</td>\n",
       "      <td>27.9</td>\n",
       "      <td>31.9</td>\n",
       "      <td>30.3</td>\n",
       "      <td>9.9</td>\n",
       "      <td>NaN</td>\n",
       "    </tr>\n",
       "    <tr>\n",
       "      <th>2010-02</th>\n",
       "      <td>100.0</td>\n",
       "      <td>23.8</td>\n",
       "      <td>22.5</td>\n",
       "      <td>29.1</td>\n",
       "      <td>24.6</td>\n",
       "      <td>20.1</td>\n",
       "      <td>19.3</td>\n",
       "      <td>28.6</td>\n",
       "      <td>25.4</td>\n",
       "      <td>27.5</td>\n",
       "      <td>7.2</td>\n",
       "      <td>NaN</td>\n",
       "      <td>NaN</td>\n",
       "    </tr>\n",
       "    <tr>\n",
       "      <th>2010-03</th>\n",
       "      <td>100.0</td>\n",
       "      <td>19.0</td>\n",
       "      <td>23.0</td>\n",
       "      <td>24.2</td>\n",
       "      <td>23.3</td>\n",
       "      <td>20.3</td>\n",
       "      <td>24.6</td>\n",
       "      <td>30.2</td>\n",
       "      <td>27.5</td>\n",
       "      <td>7.9</td>\n",
       "      <td>NaN</td>\n",
       "      <td>NaN</td>\n",
       "      <td>NaN</td>\n",
       "    </tr>\n",
       "    <tr>\n",
       "      <th>2010-04</th>\n",
       "      <td>100.0</td>\n",
       "      <td>19.4</td>\n",
       "      <td>19.4</td>\n",
       "      <td>16.3</td>\n",
       "      <td>18.4</td>\n",
       "      <td>22.4</td>\n",
       "      <td>27.6</td>\n",
       "      <td>26.2</td>\n",
       "      <td>6.8</td>\n",
       "      <td>NaN</td>\n",
       "      <td>NaN</td>\n",
       "      <td>NaN</td>\n",
       "      <td>NaN</td>\n",
       "    </tr>\n",
       "    <tr>\n",
       "      <th>2010-05</th>\n",
       "      <td>100.0</td>\n",
       "      <td>15.7</td>\n",
       "      <td>16.9</td>\n",
       "      <td>17.3</td>\n",
       "      <td>17.7</td>\n",
       "      <td>25.6</td>\n",
       "      <td>21.3</td>\n",
       "      <td>7.9</td>\n",
       "      <td>NaN</td>\n",
       "      <td>NaN</td>\n",
       "      <td>NaN</td>\n",
       "      <td>NaN</td>\n",
       "      <td>NaN</td>\n",
       "    </tr>\n",
       "    <tr>\n",
       "      <th>2010-06</th>\n",
       "      <td>100.0</td>\n",
       "      <td>17.4</td>\n",
       "      <td>18.9</td>\n",
       "      <td>20.4</td>\n",
       "      <td>23.0</td>\n",
       "      <td>28.5</td>\n",
       "      <td>6.7</td>\n",
       "      <td>NaN</td>\n",
       "      <td>NaN</td>\n",
       "      <td>NaN</td>\n",
       "      <td>NaN</td>\n",
       "      <td>NaN</td>\n",
       "      <td>NaN</td>\n",
       "    </tr>\n",
       "    <tr>\n",
       "      <th>2010-07</th>\n",
       "      <td>100.0</td>\n",
       "      <td>15.6</td>\n",
       "      <td>18.3</td>\n",
       "      <td>29.6</td>\n",
       "      <td>29.0</td>\n",
       "      <td>10.2</td>\n",
       "      <td>NaN</td>\n",
       "      <td>NaN</td>\n",
       "      <td>NaN</td>\n",
       "      <td>NaN</td>\n",
       "      <td>NaN</td>\n",
       "      <td>NaN</td>\n",
       "      <td>NaN</td>\n",
       "    </tr>\n",
       "    <tr>\n",
       "      <th>2010-08</th>\n",
       "      <td>100.0</td>\n",
       "      <td>20.4</td>\n",
       "      <td>29.6</td>\n",
       "      <td>32.1</td>\n",
       "      <td>11.7</td>\n",
       "      <td>NaN</td>\n",
       "      <td>NaN</td>\n",
       "      <td>NaN</td>\n",
       "      <td>NaN</td>\n",
       "      <td>NaN</td>\n",
       "      <td>NaN</td>\n",
       "      <td>NaN</td>\n",
       "      <td>NaN</td>\n",
       "    </tr>\n",
       "    <tr>\n",
       "      <th>2010-09</th>\n",
       "      <td>100.0</td>\n",
       "      <td>22.6</td>\n",
       "      <td>23.5</td>\n",
       "      <td>9.9</td>\n",
       "      <td>NaN</td>\n",
       "      <td>NaN</td>\n",
       "      <td>NaN</td>\n",
       "      <td>NaN</td>\n",
       "      <td>NaN</td>\n",
       "      <td>NaN</td>\n",
       "      <td>NaN</td>\n",
       "      <td>NaN</td>\n",
       "      <td>NaN</td>\n",
       "    </tr>\n",
       "    <tr>\n",
       "      <th>2010-10</th>\n",
       "      <td>100.0</td>\n",
       "      <td>25.7</td>\n",
       "      <td>9.3</td>\n",
       "      <td>NaN</td>\n",
       "      <td>NaN</td>\n",
       "      <td>NaN</td>\n",
       "      <td>NaN</td>\n",
       "      <td>NaN</td>\n",
       "      <td>NaN</td>\n",
       "      <td>NaN</td>\n",
       "      <td>NaN</td>\n",
       "      <td>NaN</td>\n",
       "      <td>NaN</td>\n",
       "    </tr>\n",
       "    <tr>\n",
       "      <th>2010-11</th>\n",
       "      <td>100.0</td>\n",
       "      <td>10.8</td>\n",
       "      <td>NaN</td>\n",
       "      <td>NaN</td>\n",
       "      <td>NaN</td>\n",
       "      <td>NaN</td>\n",
       "      <td>NaN</td>\n",
       "      <td>NaN</td>\n",
       "      <td>NaN</td>\n",
       "      <td>NaN</td>\n",
       "      <td>NaN</td>\n",
       "      <td>NaN</td>\n",
       "      <td>NaN</td>\n",
       "    </tr>\n",
       "    <tr>\n",
       "      <th>2010-12</th>\n",
       "      <td>100.0</td>\n",
       "      <td>NaN</td>\n",
       "      <td>NaN</td>\n",
       "      <td>NaN</td>\n",
       "      <td>NaN</td>\n",
       "      <td>NaN</td>\n",
       "      <td>NaN</td>\n",
       "      <td>NaN</td>\n",
       "      <td>NaN</td>\n",
       "      <td>NaN</td>\n",
       "      <td>NaN</td>\n",
       "      <td>NaN</td>\n",
       "      <td>NaN</td>\n",
       "    </tr>\n",
       "  </tbody>\n",
       "</table>\n",
       "</div>"
      ],
      "text/plain": [
       "CohortIndex     1     2     3     4     5     6     7     8     9     10  \\\n",
       "CohortMonth                                                                \n",
       "2009-12      100.0  35.3  33.4  42.5  38.0  35.9  37.7  34.2  33.6  36.2   \n",
       "2010-01      100.0  20.6  31.1  30.5  26.4  30.0  25.8  23.0  27.9  31.9   \n",
       "2010-02      100.0  23.8  22.5  29.1  24.6  20.1  19.3  28.6  25.4  27.5   \n",
       "2010-03      100.0  19.0  23.0  24.2  23.3  20.3  24.6  30.2  27.5   7.9   \n",
       "2010-04      100.0  19.4  19.4  16.3  18.4  22.4  27.6  26.2   6.8   NaN   \n",
       "2010-05      100.0  15.7  16.9  17.3  17.7  25.6  21.3   7.9   NaN   NaN   \n",
       "2010-06      100.0  17.4  18.9  20.4  23.0  28.5   6.7   NaN   NaN   NaN   \n",
       "2010-07      100.0  15.6  18.3  29.6  29.0  10.2   NaN   NaN   NaN   NaN   \n",
       "2010-08      100.0  20.4  29.6  32.1  11.7   NaN   NaN   NaN   NaN   NaN   \n",
       "2010-09      100.0  22.6  23.5   9.9   NaN   NaN   NaN   NaN   NaN   NaN   \n",
       "2010-10      100.0  25.7   9.3   NaN   NaN   NaN   NaN   NaN   NaN   NaN   \n",
       "2010-11      100.0  10.8   NaN   NaN   NaN   NaN   NaN   NaN   NaN   NaN   \n",
       "2010-12      100.0   NaN   NaN   NaN   NaN   NaN   NaN   NaN   NaN   NaN   \n",
       "\n",
       "CohortIndex    11    12    13  \n",
       "CohortMonth                    \n",
       "2009-12      42.2  49.5  24.8  \n",
       "2010-01      30.3   9.9   NaN  \n",
       "2010-02       7.2   NaN   NaN  \n",
       "2010-03       NaN   NaN   NaN  \n",
       "2010-04       NaN   NaN   NaN  \n",
       "2010-05       NaN   NaN   NaN  \n",
       "2010-06       NaN   NaN   NaN  \n",
       "2010-07       NaN   NaN   NaN  \n",
       "2010-08       NaN   NaN   NaN  \n",
       "2010-09       NaN   NaN   NaN  \n",
       "2010-10       NaN   NaN   NaN  \n",
       "2010-11       NaN   NaN   NaN  \n",
       "2010-12       NaN   NaN   NaN  "
      ]
     },
     "execution_count": 13,
     "metadata": {},
     "output_type": "execute_result"
    }
   ],
   "source": [
    "cohort_sizes = cohort_counts.iloc[:, 0]\n",
    "\n",
    "cohort_retention = cohort_counts.divide(cohort_sizes, axis=0)\n",
    "\n",
    "cohort_retention.round(3) * 100"
   ]
  },
  {
   "cell_type": "markdown",
   "id": "1478b9fb",
   "metadata": {},
   "source": [
    "5. Visualize the Retention Rate with a Heatmap\n",
    "\n",
    "This is the key deliverable of this step. A heatmap makes the retention table easy to interpret at a glance."
   ]
  },
  {
   "cell_type": "code",
   "execution_count": 14,
   "id": "6294860d",
   "metadata": {},
   "outputs": [
    {
     "data": {
      "image/png": "[encoded data removed]",
      "text/plain": [
       "<Figure size 1200x800 with 2 Axes>"
      ]
     },
     "metadata": {},
     "output_type": "display_data"
    }
   ],
   "source": [
    "import matplotlib.pyplot as plt\n",
    "import seaborn as sns\n",
    "\n",
    "plt.figure(figsize=(12, 8))\n",
    "plt.title('Monthly Customer Retention Rate')\n",
    "\n",
    "sns.heatmap(data=cohort_retention,\n",
    "            annot=True,       \n",
    "            fmt='.0%',         \n",
    "            vmin=0.0,\n",
    "            vmax=0.5,          \n",
    "            cmap='Blues')      \n",
    "plt.show()"
   ]
  },
  {
   "cell_type": "markdown",
   "id": "d390d756",
   "metadata": {},
   "source": [
    "Each row is a cohort. The first column (1) is always 100% because it represents the month all those customers started. As you move right, the percentage shows how many of that original group came back in the following months.The colors fading from dark to light show customer churn. A sharp drop-off after the first month is common.Are newer cohorts (bottom rows) retaining better or worse than older cohorts (top rows)? This can indicate if your business strategies are improving over time.\n",
    "\n",
    "We have now turned raw data into a powerful visualization of customer behavior! The next step is to prepare the data for our predictive model."
   ]
  },
  {
   "cell_type": "markdown",
   "id": "10e67976",
   "metadata": {},
   "source": [
    "Feature Engineering for CLV Modeling"
   ]
  },
  {
   "cell_type": "markdown",
   "id": "950d688a",
   "metadata": {},
   "source": [
    " To transform our transaction-level data into a customer-level summary table with Recency, Frequency, Monetary (RFM) features. This specific RFM format is required by our predictive library, lifetimes\n",
    "\n",
    " 1. Understanding the RFM Features for lifetimes\n",
    "\n",
    " The lifetimes library uses a specific definition for its RFM inputs:\n",
    "\n",
    "\n",
    "Frequency: The number of repeat purchases. A customer who bought 3 times has a frequency of 2. A customer who bought only once has a frequency of 0.\n",
    "\n",
    "Recency: The time between a customer's first and last purchase. This is the age of the customer when they made their last transaction.\n",
    "\n",
    "T (Tenure): The time between a customer's first purchase and the end of the observation period. This is the total age of the customer in our dataset.\n",
    "\n",
    "Monetary Value: The average value of a customer's repeat purchases. This is calculated only for customers with a frequency greater than 0."
   ]
  },
  {
   "cell_type": "markdown",
   "id": "500943a3",
   "metadata": {},
   "source": [
    "2. Using the lifetimes Utility Function\n",
    "\n",
    "Manually calculating these values would be tedious. Luckily, the lifetimes library provides a powerful utility function, summary_data_from_transaction_data, that does all the work for us."
   ]
  },
  {
   "cell_type": "code",
   "execution_count": 15,
   "id": "4b8e1583",
   "metadata": {},
   "outputs": [
    {
     "name": "stdout",
     "output_type": "stream",
     "text": [
      "             frequency  recency      T  monetary_value\n",
      "Customer ID                                           \n",
      "12346              6.0    196.0  361.0       47.143333\n",
      "12347              1.0     37.0   40.0      711.790000\n",
      "12348              0.0      0.0   74.0        0.000000\n",
      "12349              2.0    182.0  225.0      801.310000\n",
      "12351              0.0      0.0   11.0        0.000000\n"
     ]
    }
   ],
   "source": [
    "from lifetimes.utils import summary_data_from_transaction_data\n",
    "\n",
    "observation_period_end = df['InvoiceDate'].max() + pd.DateOffset(days=1)\n",
    "\n",
    "rfm_df = summary_data_from_transaction_data(\n",
    "    df,\n",
    "    customer_id_col='Customer ID',\n",
    "    datetime_col='InvoiceDate',\n",
    "    monetary_value_col='TotalPrice',\n",
    "    observation_period_end=observation_period_end\n",
    ")\n",
    "\n",
    "print(rfm_df.head())"
   ]
  },
  {
   "cell_type": "markdown",
   "id": "a0c70dba",
   "metadata": {},
   "source": [
    "The output is a new DataFrame where each row represents one customer with their calculated frequency, recency, T, and monetary_value."
   ]
  },
  {
   "cell_type": "markdown",
   "id": "2cce9a37",
   "metadata": {},
   "source": [
    "3. Exploring the RFM Features\n",
    "\n",
    "Check for customers who only purchased once: These customers will have frequency = 0 and monetary_value = 0. Our model will learn from this."
   ]
  },
  {
   "cell_type": "code",
   "execution_count": 16,
   "id": "6ac805b3",
   "metadata": {},
   "outputs": [
    {
     "name": "stdout",
     "output_type": "stream",
     "text": [
      "Number of customers with one purchase: 1494\n"
     ]
    }
   ],
   "source": [
    "print(\"Number of customers with one purchase:\", (rfm_df['frequency'] == 0).sum())"
   ]
  },
  {
   "cell_type": "markdown",
   "id": "07415826",
   "metadata": {},
   "source": [
    "Look at the distribution of monetary value: Let's see how average spending is distributed among repeat customers."
   ]
  },
  {
   "cell_type": "code",
   "execution_count": 17,
   "id": "a314738b",
   "metadata": {},
   "outputs": [
    {
     "data": {
      "image/png": "[encoded data removed]",
      "text/plain": [
       "<Figure size 1000x600 with 1 Axes>"
      ]
     },
     "metadata": {},
     "output_type": "display_data"
    }
   ],
   "source": [
    "import seaborn as sns\n",
    "import matplotlib.pyplot as plt\n",
    "\n",
    "repeat_customers = rfm_df[rfm_df['frequency'] > 0]\n",
    "\n",
    "plt.figure(figsize=(10, 6))\n",
    "sns.histplot(repeat_customers['monetary_value'], bins=50)\n",
    "plt.title('Distribution of Average Monetary Value for Repeat Customers')\n",
    "plt.show()"
   ]
  },
  {
   "cell_type": "markdown",
   "id": "1b5e53de",
   "metadata": {},
   "source": [
    "We have now successfully transformed the raw transaction log into a powerful, customer-centric feature set. This rfm_df table is the exact input our predictive models need."
   ]
  },
  {
   "cell_type": "markdown",
   "id": "4571be87",
   "metadata": {},
   "source": [
    "Model Training"
   ]
  },
  {
   "cell_type": "markdown",
   "id": "9cc6af72",
   "metadata": {},
   "source": [
    "Objective: To train two probabilistic models on our RFM data. The first model will predict future transaction frequency, and the second will predict the monetary value of those transactions.\n",
    "\n",
    "We will divide it into two-part prediction:\n",
    "\n",
    "How often will a customer buy? (BG/NBD Model)\n",
    "\n",
    "How much will they spend when they buy? (Gamma-Gamma Model)"
   ]
  },
  {
   "cell_type": "markdown",
   "id": "da458a41",
   "metadata": {},
   "source": [
    "1. Part 1: Training the Transaction Model (BG/NBD)\n",
    "The BG/NBD (Beta-Geometric/Negative Binomial Distribution) model analyzes the recency and frequency of past purchases to predict future buying behavior. It calculates the probability that a customer is still \"alive\" (i.e., hasn't churned) and how many transactions they are likely to make in a future time period."
   ]
  },
  {
   "cell_type": "code",
   "execution_count": 18,
   "id": "e492d289",
   "metadata": {},
   "outputs": [
    {
     "name": "stdout",
     "output_type": "stream",
     "text": [
      "             coef    se(coef)  lower 95% bound  upper 95% bound\n",
      "r        0.873416    0.028404         0.817743         0.929088\n",
      "alpha   71.773688    2.704104        66.473644        77.073732\n",
      "a        0.265301    1.211619        -2.109471         2.640073\n",
      "b      180.662227  883.397449     -1550.796773      1912.121227\n"
     ]
    }
   ],
   "source": [
    "from lifetimes import BetaGeoFitter\n",
    "\n",
    "bgf = BetaGeoFitter(penalizer_coef=0.0)\n",
    "\n",
    "bgf.fit(rfm_df['frequency'], rfm_df['recency'], rfm_df['T'])\n",
    "\n",
    "print(bgf.summary)"
   ]
  },
  {
   "cell_type": "markdown",
   "id": "a7d79d6d",
   "metadata": {},
   "source": [
    "2. Part 2: Training the Monetary Model (Gamma-Gamma)\n",
    "The Gamma-Gamma model works by assuming that the average transaction value for each customer follows a Gamma distribution. It uses this to predict the most likely average transaction value for each customer in the future.\n",
    "\n",
    "The Gamma-Gamma model assumes that there is no correlation between a customer's frequency and their monetary value. We must check this before training."
   ]
  },
  {
   "cell_type": "code",
   "execution_count": 19,
   "id": "1235bac4",
   "metadata": {},
   "outputs": [
    {
     "name": "stdout",
     "output_type": "stream",
     "text": [
      "Correlation Matrix:\n",
      "                 frequency  monetary_value\n",
      "frequency        1.000000        0.186686\n",
      "monetary_value   0.186686        1.000000\n"
     ]
    }
   ],
   "source": [
    "repeat_customers_df = rfm_df[rfm_df['frequency'] > 0]\n",
    "\n",
    "correlation_matrix = repeat_customers_df[['frequency', 'monetary_value']].corr()\n",
    "print(\"Correlation Matrix:\\n\", correlation_matrix)"
   ]
  },
  {
   "cell_type": "markdown",
   "id": "cc819f28",
   "metadata": {},
   "source": [
    "Since the correlation is less than 0.3 we can proceed futher"
   ]
  },
  {
   "cell_type": "code",
   "execution_count": 20,
   "id": "2e2f14b6",
   "metadata": {},
   "outputs": [
    {
     "name": "stdout",
     "output_type": "stream",
     "text": [
      "         coef   se(coef)  lower 95% bound  upper 95% bound\n",
      "p    2.205296   0.121240         1.967665         2.442926\n",
      "q    3.621314   0.148011         3.331212         3.911416\n",
      "v  501.979604  45.330079       413.132649       590.826559\n"
     ]
    }
   ],
   "source": [
    "from lifetimes import GammaGammaFitter\n",
    "\n",
    "ggf = GammaGammaFitter(penalizer_coef=0.0)\n",
    "\n",
    "ggf.fit(repeat_customers_df['frequency'],\n",
    "        repeat_customers_df['monetary_value'])\n",
    "\n",
    "print(ggf.summary)"
   ]
  },
  {
   "cell_type": "markdown",
   "id": "8c08200b",
   "metadata": {},
   "source": [
    "We have now successfully trained two sophisticated models:\n",
    "\n",
    "The BG/NBD model understands the transactional behavior of the customers.\n",
    "\n",
    "The Gamma-Gamma model understands the monetary value of their purchases.\n",
    "\n",
    "These two models are now ready to be combined to predict the end-to-end Customer Lifetime Value."
   ]
  },
  {
   "cell_type": "markdown",
   "id": "e2a75f23",
   "metadata": {},
   "source": [
    "CLV Calculation & Business Insights\n",
    "\n",
    "Objective: To use the trained BG/NBD and Gamma-Gamma models to predict the 12-month Customer Lifetime Value for each customer. We will then analyze these predictions to segment customers and suggest targeted business strategies."
   ]
  },
  {
   "cell_type": "markdown",
   "id": "099f7d3d",
   "metadata": {},
   "source": [
    "1. Calculating the 12-Month CLV\n",
    "\n",
    "The lifetimes library makes this final calculation straightforward. The fitted Gamma-Gamma model object (ggf) has a built-in method, customer_lifetime_value, that combines both models to predict CLV."
   ]
  },
  {
   "cell_type": "code",
   "execution_count": 21,
   "id": "ea60e530",
   "metadata": {},
   "outputs": [
    {
     "name": "stdout",
     "output_type": "stream",
     "text": [
      "Top 10 Customers by Predicted 12-Month CLV:\n",
      "             frequency  recency      T  monetary_value  predicted_clv\n",
      "Customer ID                                                          \n",
      "18102             42.0    373.0  374.0     8259.002619  255802.323276\n",
      "14646             45.0    363.0  373.0     5393.010222  179013.813277\n",
      "14156             78.0    367.0  374.0     2506.409487  143008.957841\n",
      "14911            127.0    373.0  374.0     1192.235748  110216.869378\n",
      "13694             48.0    362.0  371.0     2685.693750   95649.109282\n",
      "17511             24.0    370.0  373.0     3393.022083   60547.015087\n",
      "16754             18.0    269.0  277.0     3505.892778   59666.326928\n",
      "16684             18.0    353.0  368.0     4407.782778   59521.444899\n",
      "15061             40.0    371.0  374.0     2000.241000   59290.255138\n",
      "17949             42.0    366.0  373.0     1386.942857   43314.981373\n"
     ]
    }
   ],
   "source": [
    "time_in_months = 12\n",
    "\n",
    "rfm_df['predicted_clv'] = ggf.customer_lifetime_value(\n",
    "    bgf,\n",
    "    rfm_df['frequency'],\n",
    "    rfm_df['recency'],\n",
    "    rfm_df['T'],\n",
    "    rfm_df['monetary_value'],\n",
    "    time=time_in_months,\n",
    "    freq='D', \n",
    "    discount_rate=0.01 \n",
    ")\n",
    "\n",
    "print(\"Top 10 Customers by Predicted 12-Month CLV:\")\n",
    "print(rfm_df.sort_values(by='predicted_clv', ascending=False).head(10))"
   ]
  },
  {
   "cell_type": "markdown",
   "id": "1b0a179a",
   "metadata": {},
   "source": [
    "This new predicted_clv column represents the estimated monetary value we can expect from each customer over the next year, discounted to its present value."
   ]
  },
  {
   "cell_type": "markdown",
   "id": "df72697b",
   "metadata": {},
   "source": [
    "2. Analyzing and Visualizing the CLV Predictions"
   ]
  },
  {
   "cell_type": "code",
   "execution_count": 22,
   "id": "941b7c05",
   "metadata": {},
   "outputs": [
    {
     "data": {
      "image/png": "[encoded data removed]",
      "text/plain": [
       "<Figure size 1000x600 with 1 Axes>"
      ]
     },
     "metadata": {},
     "output_type": "display_data"
    },
    {
     "name": "stdout",
     "output_type": "stream",
     "text": [
      "count      4312.000000\n",
      "mean       1949.593864\n",
      "std        6473.398460\n",
      "min         279.087387\n",
      "25%         640.758081\n",
      "50%        1073.705668\n",
      "75%        1780.106100\n",
      "max      255802.323276\n",
      "Name: predicted_clv, dtype: float64\n"
     ]
    }
   ],
   "source": [
    "import seaborn as sns\n",
    "import matplotlib.pyplot as plt\n",
    "\n",
    "plt.figure(figsize=(10, 6))\n",
    "sns.histplot(rfm_df['predicted_clv'], bins=50)\n",
    "plt.title('Distribution of Predicted 12-Month CLV')\n",
    "plt.xlabel('Predicted CLV ($)')\n",
    "plt.ylabel('Number of Customers')\n",
    "plt.show()\n",
    "\n",
    "print(rfm_df['predicted_clv'].describe())"
   ]
  },
  {
   "cell_type": "markdown",
   "id": "94c8742a",
   "metadata": {},
   "source": [
    "The plot is very skewed, confirming the \"Pareto Principle\": a small percentage of customers are responsible for a large portion of revenue."
   ]
  },
  {
   "cell_type": "markdown",
   "id": "9b6b4a3e",
   "metadata": {},
   "source": [
    "3. Deriving Actionable Business Insights through Segmentation\n",
    "\n",
    "Now we would translate our work into business strategy. We'll segment customers into tiers based on their predicted CLV.\n",
    "\n"
   ]
  },
  {
   "cell_type": "code",
   "execution_count": 23,
   "id": "57446045",
   "metadata": {},
   "outputs": [
    {
     "name": "stdout",
     "output_type": "stream",
     "text": [
      "              count         mean           sum\n",
      "clv_segment                                   \n",
      "Low Value      1078   440.939908  4.753332e+05\n",
      "Medium Value   1078   861.579258  9.287824e+05\n",
      "High Value     1078  1372.115674  1.479141e+06\n",
      "VIP            1078  5123.740616  5.523392e+06\n"
     ]
    }
   ],
   "source": [
    "rfm_df['clv_segment'] = pd.qcut(rfm_df['predicted_clv'],\n",
    "                                q=4,\n",
    "                                labels=['Low Value', 'Medium Value', 'High Value', 'VIP'])\n",
    "\n",
    "print(rfm_df.groupby('clv_segment')['predicted_clv'].agg(['count', 'mean', 'sum']))"
   ]
  },
  {
   "cell_type": "markdown",
   "id": "9b591b23",
   "metadata": {},
   "source": [
    "Now, we can propose targeted strategies for each segment:\n",
    "\n",
    "VIP Customers: These are the most valuable customers.\n",
    "\n",
    "Strategy: Retain and Reward. Implement a loyalty program, offer exclusive early access to new products, provide personalized customer support, and send thank-you gifts. The goal is to make them feel valued and prevent churn.\n",
    "\n",
    "High-Value Customers: These are consistent, valuable customers.\n",
    "\n",
    "Strategy: Upsell and Nurture. Use targeted marketing to recommend products related to their past purchases. Offer \"buy more, save more\" promotions to increase their average order value and turn them into VIPs.\n",
    "\n",
    "Medium-Value Customers: These customers are active but less frequent or spend less.\n",
    "\n",
    "Strategy: Re-engage and Incentivize. Use email marketing campaigns with special offers to increase their purchase frequency. Focus on increasing their engagement with the brand.\n",
    "\n",
    "Low-Value Customers: This group includes many one-time buyers.\n",
    "\n",
    "Strategy: Automate and Minimize Cost. Keep them engaged through low-cost, automated email newsletters. Don't spend significant marketing dollars trying to re-acquire them. The focus is on maximizing profit from any purchase they do make."
   ]
  },
  {
   "cell_type": "code",
   "execution_count": 24,
   "id": "52734a8b",
   "metadata": {},
   "outputs": [],
   "source": [
    "rfm_df.reset_index(inplace=True)\n",
    "\n",
    "rfm_df.to_csv('clv_dashboard_data.csv', index=False)"
   ]
  }
 ],
 "metadata": {
  "kernelspec": {
   "display_name": "clv_env",
   "language": "python",
   "name": "python3"
  },
  "language_info": {
   "codemirror_mode": {
    "name": "ipython",
    "version": 3
   },
   "file_extension": ".py",
   "mimetype": "text/x-python",
   "name": "python",
   "nbconvert_exporter": "python",
   "pygments_lexer": "ipython3",
   "version": "3.13.5"
  }
 },
 "nbformat": 4,
 "nbformat_minor": 5
}
